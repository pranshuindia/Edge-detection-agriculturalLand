{
  "nbformat": 4,
  "nbformat_minor": 0,
  "metadata": {
    "colab": {
      "name": "EdgeDetection_15February.ipynb",
      "provenance": [],
      "collapsed_sections": []
    },
    "kernelspec": {
      "name": "python3",
      "display_name": "Python 3"
    }
  },
  "cells": [
    {
      "cell_type": "markdown",
      "metadata": {
        "id": "lJYhupAOk7q-",
        "colab_type": "text"
      },
      "source": [
        "#**Edge Detection in Satellite Imagery**"
      ]
    },
    {
      "cell_type": "markdown",
      "metadata": {
        "id": "vUi8QZi5l6SE",
        "colab_type": "text"
      },
      "source": [
        "##**Abstract**\n",
        "\n",
        " - Agricultural land-use statistics are more informative per-field than per-pixel. \n",
        " - Land-use classification requires up-to-date field boundary maps potentially covering large areas containing thousands of farms.\n",
        " - Remote sensing imagery can provide detailed, up-to-date, and spatially explicit information on agricultural land use that would otherwise be difficult to gather. \n",
        " - A need for combining the accuracy of the remotely sensed imagery available today along with image processing techniques to obtain useful land-use statistics.\n",
        " \n"
      ]
    },
    {
      "cell_type": "markdown",
      "metadata": {
        "colab_type": "text",
        "id": "zTbC0u7TNrkE"
      },
      "source": [
        "## **Scope of the Project**\n",
        "![title]('https://drive.google.com/uc?id=1zx-zZHn-Y_jCRvT2osysIntZRt5MKQkE')\n",
        "\n",
        "**Remote sensing** is the science of obtaining information about objects or areas from a distance, typically from aircraft or satellites.\n",
        "<br>\n",
        "**Computer science** is the science which studies processes that interact with data and that can be represented as data in the form of programs. It enables the use of algorithms to manipulate, store, and communicate digital information.\n"
      ]
    },
    {
      "cell_type": "markdown",
      "metadata": {
        "id": "hyWogauOumQW",
        "colab_type": "text"
      },
      "source": [
        "## **Importing the necessary libraries**\n",
        "\n",
        "### **Language Used**\n",
        " - Python 3.6.8\n",
        "\n",
        "### **Libraries Used**\n",
        " - **OpenCV**\n",
        "    - Consists of a compact module defining basic data structures and  an image processing module that includes linear and non-linear image filtering, geometrical image transformations, color space conversion, histograms, and so on.\n",
        " - **Numpy** – Fundamental package which contains :\n",
        "    - a powerful N-dimensional array object\n",
        "    - sophisticated (broadcasting) functions\n",
        "    - tools for integrating C/C++ and Fortran code\n",
        "    - useful linear algebra, Fourier transform, and random number capabilities\n",
        " - **PIL**\n",
        "    - Contains basic image processing functionality, including point operations, filtering with a set of built-in convolution kernels, and colour space conversions.\n",
        "    - Histogram method allows to pull some statistics out of an image, which is used for automatic contrast enhancement, and for global statistical analysis.\n",
        " - **Matplotlib**\n",
        "    - 2D plotting library which produces publication quality figures in a variety of hardcopy formats and interactive environments across platforms. \n",
        " - **google.colab.patches** \n",
        "    - Handling advanced ouput on Google Colab\n"
      ]
    },
    {
      "cell_type": "code",
      "metadata": {
        "id": "KpsN6KUvFPqq",
        "colab_type": "code",
        "colab": {}
      },
      "source": [
        "import os\n",
        "from PIL import Image\n",
        "from skimage.color import rgb2gray\n",
        "import numpy as np\n",
        "import cv2\n",
        "import matplotlib.pyplot as plt\n",
        "%matplotlib inline\n",
        "from scipy import ndimage\n",
        "from google.colab.patches import cv2_imshow"
      ],
      "execution_count": 0,
      "outputs": []
    },
    {
      "cell_type": "code",
      "metadata": {
        "id": "KjD-o-3-FQul",
        "colab_type": "code",
        "outputId": "b0aa2070-f9be-4eb5-d34d-1027b1af8f66",
        "colab": {
          "base_uri": "https://localhost:8080/",
          "height": 34
        }
      },
      "source": [
        "from google.colab import drive\n",
        "drive.mount('/content/drive',force_remount=True)\n",
        "#Variable used for total number of images\n",
        "q=1\n",
        "z=3"
      ],
      "execution_count": 2,
      "outputs": [
        {
          "output_type": "stream",
          "text": [
            "Mounted at /content/drive\n"
          ],
          "name": "stdout"
        }
      ]
    },
    {
      "cell_type": "markdown",
      "metadata": {
        "id": "fjeVuIfzvnBj",
        "colab_type": "text"
      },
      "source": [
        "## **Data/Images Used**\n",
        "\n",
        "The data obtained for testing the implementation of the technique developed have been obtained from Google Earth and the images so obtained have been taken from the WorldView satellite available. The images include a variety of sites, with each showing a different color visually, thus helping us to test the robustness of the algorithm.\n",
        "\n",
        "INSERT IMAGE AFTER THIS"
      ]
    },
    {
      "cell_type": "markdown",
      "metadata": {
        "id": "-VIr743kDwOC",
        "colab_type": "text"
      },
      "source": [
        "## **Classical Approach**\n"
      ]
    },
    {
      "cell_type": "markdown",
      "metadata": {
        "id": "g0rZoKz1D6bN",
        "colab_type": "text"
      },
      "source": [
        "### **Canny Edge Detection**\n",
        "\n",
        " - Import image\n",
        " - Perform noise removal using smoothening methods\n",
        "  - Gaussian blurred performed with kernel size of 5 x 5\n",
        "  - Gaussian blurred performed with kernel size of 3 x 3\n",
        "  - Gaussian kernel standard deviation is kept 0 in both steps. Python function automatically calculates the standard deviation σx and σy .\n",
        " - A maximum and minimum threshold must be used for Canny Edge Detection. The threshold is calculated using the mean and standard deviation of the image from the previous step.\n",
        " - Henceforth, the canny edge detection is performed which outputs a binary image with edge boundary (white) and non-edge boundary (black)."
      ]
    },
    {
      "cell_type": "code",
      "metadata": {
        "id": "0I3rDV0PD0Wi",
        "colab_type": "code",
        "colab": {}
      },
      "source": [
        "for j in range(q,z):\n",
        "  i=str(j)\n",
        "  #PLEASE SET PATH FOR THE TEST IMAGE AS PER SYSTEM . \n",
        "  #NOTE : PLEASE KEEP IMAGE FORMAT AS 'Final_Image_(Integer).jpg'\n",
        "  if(j!=2):\n",
        "    imagebeing_read = 'drive/My Drive/Images/Final_Image_'+i+'.jpg'\n",
        "  else:\n",
        "    imagebeing_read = 'drive/My Drive/Images/Final_Image_'+i+'.jpeg'\n",
        "  oimg=cv2.imread(imagebeing_read)\n",
        "  img=cv2.GaussianBlur(oimg,(5,5),0)\n",
        "\n",
        "\n",
        "  #THIS IS PATH FOR WRITING THE IMAGE \n",
        "  # PLEASE EDIT ONLY THE PART BEFORE\n",
        "  first_GaussianBlur = 'drive/My Drive/Edge_Detection_End/Image'+i+'/Image'+i+'_GaussianBlurred_1.jpg'\n",
        "  cv2.imwrite(first_GaussianBlur,img)\n",
        "  nimg=cv2.GaussianBlur(img,(3,3),0)\n",
        "  second_GaussianBlur = 'drive/My Drive/Edge_Detection_End/Image'+i+'/Image'+i+'_GaussianBlurred_2.jpg'\n",
        "  cv2.imwrite(second_GaussianBlur,nimg)\n",
        "  \n",
        "  \n",
        "  v = np.mean(nimg)\n",
        "  sigma = np.std(nimg)\n",
        "  lowThresh = int(max(0, (1.0 - sigma) * 2*v))\n",
        "  high_Thresh = int(min(255, (1.0 + sigma) * 2*v))\n",
        "  edges_Canny = cv2.Canny(nimg,lowThresh,high_Thresh)\n",
        "\n",
        "  #Path used for writing the Canny Image Detected.\n",
        "  WriteImage = 'drive/My Drive/Edge_Detection_End/Image'+i+'/Image'+i+'_Canny.jpg'\n",
        "  cv2.imwrite(WriteImage,edges_Canny)\n",
        "  "
      ],
      "execution_count": 0,
      "outputs": []
    },
    {
      "cell_type": "markdown",
      "metadata": {
        "id": "KxoHBAHe0QHh",
        "colab_type": "text"
      },
      "source": [
        "### **Laplacian Edge Detection**\n",
        "\n",
        " - Import image\n",
        " - Perform noise removal using smoothening methods\n",
        "  - Gaussian blurred performed with kernel size 5 x 5\n",
        " - Laplacian edge detection is performed which outputs a greyscale image with detected edges.\n",
        " - Global thresholding performed to obtain a binary image from the grayscale image for displaying boundary pixels and non-boundary pixels.\n"
      ]
    },
    {
      "cell_type": "code",
      "metadata": {
        "id": "ELBSXJ-SOPzf",
        "colab_type": "code",
        "colab": {}
      },
      "source": [
        "for j in range(q,z):\n",
        "  i=str(j)\n",
        "  if(j!=2):\n",
        "    #The image is again being read here. Again set path according to system\n",
        "    imagebeing_read = 'drive/My Drive/Images/Final_Image_'+i+'.jpg'\n",
        "  else:\n",
        "    imagebeing_read = 'drive/My Drive/Images/Final_Image_'+i+'.jpeg'\n",
        "  oimg=cv2.imread(imagebeing_read)\n",
        "  img=cv2.GaussianBlur(oimg,(5,5),0)\n",
        "  edges_Laplacian=cv2.Laplacian(img,cv2.CV_64F)\n",
        "  #Laplacian Image is written here\n",
        "  WriteImage_Laplacian = 'drive/My Drive/Edge_Detection_End/Image'+i+'/Image'+i+'_Laplacian.jpg'\n",
        "  cv2.imwrite(WriteImage_Laplacian,edges_Laplacian)\n",
        "  ReadImage_Laplacian=WriteImage_Laplacian\n",
        "  edges_Laplacian=cv2.imread(ReadImage_Laplacian)\n",
        "  img= cv2.cvtColor(edges_Laplacian, cv2.COLOR_BGR2GRAY)\n",
        "  mean_value=np.mean(img)\n",
        "  #Linear Contrast Enhancement \n",
        "  mean_value=mean_value*3.1\n",
        "  #Thresholding performed to form definite boundaries\n",
        "  ret,th1 = cv2.threshold(img,mean_value,255,cv2.THRESH_BINARY)\n",
        "  th2 = cv2.adaptiveThreshold(img,255,cv2.ADAPTIVE_THRESH_MEAN_C,cv2.THRESH_BINARY,11,2)\n",
        "  th3 = cv2.adaptiveThreshold(img,255,cv2.ADAPTIVE_THRESH_GAUSSIAN_C,cv2.THRESH_BINARY,11,2)\n",
        "  #Creating Array for performing different type of thresholding\n",
        "  titles = ['Original Image', 'Global Thresholding (v = 127)',\n",
        "              'Adaptive Mean Thresholding', 'Adaptive Gaussian Thresholding']\n",
        "  images = [img, th1, th2, th3]\n",
        "\n",
        "  th1=cv2.medianBlur(th1,3)\n",
        "  WriteImage = 'drive/My Drive/Edge_Detection_End/Image'+i+'/Image'+i+'_Laplacian_GaussianFilter_5x5_Global.jpg'\n",
        "  cv2.imwrite(WriteImage,th1)"
      ],
      "execution_count": 0,
      "outputs": []
    },
    {
      "cell_type": "markdown",
      "metadata": {
        "id": "BVTbFtVLDWZ5",
        "colab_type": "text"
      },
      "source": [
        "### **Sobel Edge Detection**\n",
        "\n",
        " - Import image\n",
        " - Perform transformation from RGB color triad to YUV color triad.\n",
        " - On the transformed image, perform linear contrast enhancement.\n",
        "  - Y = aX + b ; X is the input pixel value and a and b are constants chosen for image enhancement and Y is the output pixel value.\n",
        " - Perform noise removal using smoothening methods\n",
        "  - Gaussian blurred performed with kernel size of 5 x 5\n",
        " - Sobel filtering is performed on the enhanced image obtained from the previous step. \n",
        " - The edge detected image is then smoothened again using Gaussian Blur of 3x3.\n",
        " - The image obtained after smoothening is a grayscale image which is finally binarized/thresholded to produce a binary image with edge boundary (white) and non-edge boundary (black).\n"
      ]
    },
    {
      "cell_type": "markdown",
      "metadata": {
        "id": "HDjvcz6yEAld",
        "colab_type": "text"
      },
      "source": [
        "#### YUV Transform and Contrast Enhancement"
      ]
    },
    {
      "cell_type": "code",
      "metadata": {
        "id": "sap2EFdxFR_U",
        "colab_type": "code",
        "colab": {}
      },
      "source": [
        "for j in range(q,z):\n",
        "  i=str(j)\n",
        "  if(j!=2):\n",
        "    imagebeing_read = 'drive/My Drive/Images/Final_Image_'+i+'.jpg'\n",
        "  else:\n",
        "    imagebeing_read = 'drive/My Drive/Images/Final_Image_'+i+'.jpeg'\n",
        "  img=cv2.imread(imagebeing_read)\n",
        "  #YUV TRANSFORM OF IMAGES BEING PERFORMED\n",
        "  yuv = cv2.cvtColor(img, cv2.COLOR_BGR2YUV)\n",
        "  #YUV IMAGE BEING WRITTEN - Please Edit PATH ACCORDINGLY\n",
        "  YUV_Write = 'drive/My Drive/Edge_Detection_End/Image'+i+'/Image'+i+'YUV.jpg'\n",
        "  cv2.imwrite(YUV_Write,yuv)\n",
        "  img = cv2.imread(YUV_Write)\n",
        "  image=img\n",
        "  #CONTRAST ENHANCEMENT\n",
        "  new_image = np.zeros(image.shape, image.dtype)\n",
        "  alpha=0.7\n",
        "  beta=0\n",
        "  for y in range(image.shape[0]):\n",
        "      for x in range(image.shape[1]):\n",
        "        for c in range(image.shape[2]):\n",
        "              new_image[y,x,c] = np.clip(alpha*image[y,x,c] + beta, 0, 255)\n",
        "  WriteImage_YUV = 'drive/My Drive/Edge_Detection_End/Image'+i+'/Image'+i+'_yuv_LinearTransformed.jpg'\n",
        "  cv2.imwrite(WriteImage_YUV,new_image)"
      ],
      "execution_count": 0,
      "outputs": []
    },
    {
      "cell_type": "markdown",
      "metadata": {
        "id": "fTM7chTlEJrW",
        "colab_type": "text"
      },
      "source": [
        "#### Applying the Sobel Filter on the YUV Transformed Image"
      ]
    },
    {
      "cell_type": "code",
      "metadata": {
        "id": "1kgLVfJIqQ-G",
        "colab_type": "code",
        "colab": {}
      },
      "source": [
        "for j in range(q,z):\n",
        "  i=str(j)\n",
        "  imageRead = 'drive/My Drive/Edge_Detection_End/Image'+i+'/Image'+i+'_yuv_LinearTransformed.jpg'\n",
        "  img = cv2.imread(imageRead,cv2.IMREAD_GRAYSCALE)\n",
        "  img = cv2.GaussianBlur(img,(3,3),0)\n",
        "  h = cv2.Sobel(img, cv2.CV_64F, 0, 1)\n",
        "  v = cv2.Sobel(img, cv2.CV_64F, 1, 0)\n",
        "  edges_Sobel = cv2.add(h, v)\n",
        "  imageWrite = 'drive/My Drive/Edge_Detection_End/Image'+i+'/Image'+i+'_Sobel.jpg'\n",
        "  cv2.imwrite(imageWrite,edges_Sobel)"
      ],
      "execution_count": 0,
      "outputs": []
    },
    {
      "cell_type": "code",
      "metadata": {
        "id": "UmqQSBDwGkpN",
        "colab_type": "code",
        "colab": {}
      },
      "source": [
        "for j in range(q,z):\n",
        "  i=str(j)\n",
        "  from PIL import Image\n",
        "  import math\n",
        "  path = \"drive/My Drive/Edge_Detection_End/Image\"+i+\"/Image\"+i+\"YUV.jpg\" # Your image path\n",
        "  im = cv2.imread(path)\n",
        "  width=im.shape[1]\n",
        "  height=im.shape[0]\n",
        "  img = Image.open(path)\n",
        "  newimg = Image.new(\"RGB\", (width, height), \"white\")\n",
        "  for x in range(1, width-1):  # ignore the edge pixels for simplicity (1 to width-1)\n",
        "      for y in range(1, height-1): # ignore edge pixels for simplicity (1 to height-1)\n",
        "\n",
        "          # initialise Gx to 0 and Gy to 0 for every pixel\n",
        "          Gx = 0\n",
        "          Gy = 0\n",
        "\n",
        "          # top left pixel\n",
        "          p = img.getpixel((x-1, y-1))\n",
        "          r = p[0]\n",
        "          g = p[1]\n",
        "          b = p[2]\n",
        "\n",
        "          # intensity ranges from 0 to 765 (255 * 3)\n",
        "          intensity = r + g + b\n",
        "\n",
        "          # accumulate the value into Gx, and Gy\n",
        "          Gx += -intensity\n",
        "          Gy += -intensity\n",
        "\n",
        "          # remaining left column\n",
        "          p = img.getpixel((x-1, y))\n",
        "          r = p[0]\n",
        "          g = p[1]\n",
        "          b = p[2]\n",
        "\n",
        "          Gx += -2 * (r + g + b)\n",
        "\n",
        "          p = img.getpixel((x-1, y+1))\n",
        "          r = p[0]\n",
        "          g = p[1]\n",
        "          b = p[2]\n",
        "\n",
        "          Gx += -(r + g + b)\n",
        "          Gy += (r + g + b)\n",
        "\n",
        "          # middle pixels\n",
        "          p = img.getpixel((x, y-1))\n",
        "          r = p[0]\n",
        "          g = p[1]\n",
        "          b = p[2]\n",
        "\n",
        "          Gy += -2 * (r + g + b)\n",
        "\n",
        "          p = img.getpixel((x, y+1))\n",
        "          r = p[0]\n",
        "          g = p[1]\n",
        "          b = p[2]\n",
        "\n",
        "          Gy += 2 * (r + g + b)\n",
        "\n",
        "          # right column\n",
        "          p = img.getpixel((x+1, y-1))\n",
        "          r = p[0]\n",
        "          g = p[1]\n",
        "          b = p[2]\n",
        "\n",
        "          Gx += (r + g + b)\n",
        "          Gy += -(r + g + b)\n",
        "\n",
        "          p = img.getpixel((x+1, y))\n",
        "          r = p[0]\n",
        "          g = p[1]\n",
        "          b = p[2]\n",
        "\n",
        "          Gx += 2 * (r + g + b)\n",
        "\n",
        "          p = img.getpixel((x+1, y+1))\n",
        "          r = p[0]\n",
        "          g = p[1]\n",
        "          b = p[2]\n",
        "\n",
        "          Gx += (r + g + b)\n",
        "          Gy += (r + g + b)\n",
        "\n",
        "          # calculate the length of the gradient (Pythagorean theorem)\n",
        "          length = math.sqrt((Gx * Gx) + (Gy * Gy))\n",
        "\n",
        "          # normalise the length of gradient to the range 0 to 255\n",
        "          length = length / 4328 * 255\n",
        "\n",
        "          length = int(length)\n",
        "\n",
        "          # draw the length in the edge image\n",
        "          #newpixel = img.putpixel((length,length,length))\n",
        "          newimg.putpixel((x,y),(length,length,length))\n",
        "  writePath = 'drive/My Drive/Edge_Detection_End/Image'+i+'/Image'+i+'_Sobel_Manual.jpg'\n",
        "  newimg.save(writePath)"
      ],
      "execution_count": 0,
      "outputs": []
    },
    {
      "cell_type": "markdown",
      "metadata": {
        "id": "rvsKTebQETWC",
        "colab_type": "text"
      },
      "source": [
        "#### Thresholding the Sobel Filtered Image"
      ]
    },
    {
      "cell_type": "code",
      "metadata": {
        "id": "qBxKNmqZGtkj",
        "colab_type": "code",
        "colab": {}
      },
      "source": [
        "for j in range(q,z):\n",
        "  i=str(j)\n",
        "  imageRead = 'drive/My Drive/Edge_Detection_End/Image'+i+'/Image'+i+'_Sobel_Manual.jpg'\n",
        "  image=cv2.imread(imageRead)\n",
        "  Gaussian = cv2.GaussianBlur(image,(5,5),0)\n",
        "  Gaussian = cv2.GaussianBlur(Gaussian,(3,3),0)\n",
        "  median=cv2.medianBlur(image,5)\n",
        "  median=cv2.medianBlur(median,3)\n",
        "  cv2.imwrite('drive/My Drive/Edge_Detection_End/Image'+i+'/Image'+i+'_Sobel_Manual_MedianFilter_5x5.jpg',median)\n",
        "  cv2.imwrite('drive/My Drive/Edge_Detection_End/Image'+i+'/Image'+i+'_Sobel_Manual_GaussianFilter_5x5.jpg',Gaussian)\n",
        "  img= cv2.cvtColor(median, cv2.COLOR_BGR2GRAY)\n",
        "  mean_value=np.mean(img)\n",
        "  mean_value=mean_value*3.1\n",
        "  ret,th1 = cv2.threshold(img,mean_value,255,cv2.THRESH_BINARY)\n",
        "  th2 = cv2.adaptiveThreshold(img,255,cv2.ADAPTIVE_THRESH_MEAN_C,cv2.THRESH_BINARY,11,2)\n",
        "  th3 = cv2.adaptiveThreshold(img,255,cv2.ADAPTIVE_THRESH_GAUSSIAN_C,cv2.THRESH_BINARY,11,2)\n",
        "  \n",
        "  titles = ['Original Image', 'Global Thresholding (v = 127)',\n",
        "              'Adaptive Mean Thresholding', 'Adaptive Gaussian Thresholding']\n",
        "  images = [img, th1, th2, th3]\n",
        "\n",
        "  cv2.imwrite('drive/My Drive/Edge_Detection_End/Image'+i+'/Image'+i+'_Sobel_Manual_MedianFilter_5x5_Global.jpg',th1)\n",
        "  cv2.imwrite('drive/My Drive/Edge_Detection_End/Image'+i+'/Image'+i+'_Sobel_Manual_MedianFilter_5x5_AdaptiveMeanThresholding.jpg',th2)\n",
        "  cv2.imwrite('drive/My Drive/Edge_Detection_End/Image'+i+'/Image'+i+'_Sobel_Manual_MedianFilter_5x5_GaussianMeanThresholding.jpg',th3)\n",
        "  img= cv2.cvtColor(Gaussian, cv2.COLOR_BGR2GRAY)\n",
        "  mean_value=np.mean(img)\n",
        "  mean_value=mean_value*3.1\n",
        "  ret,th1 = cv2.threshold(img,mean_value,255,cv2.THRESH_BINARY)\n",
        "  th2 = cv2.adaptiveThreshold(img,255,cv2.ADAPTIVE_THRESH_MEAN_C,cv2.THRESH_BINARY,11,2)\n",
        "  th3 = cv2.adaptiveThreshold(img,255,cv2.ADAPTIVE_THRESH_GAUSSIAN_C,cv2.THRESH_BINARY,11,2)\n",
        "\n",
        "  titles = ['Original Image', 'Global Thresholding (v = 127)',\n",
        "              'Adaptive Mean Thresholding', 'Adaptive Gaussian Thresholding']\n",
        "  images = [img, th1, th2, th3]\n",
        "\n",
        "  cv2.imwrite('drive/My Drive/Edge_Detection_End/Image'+i+'/Image'+i+'_Sobel_Manual_GaussianFilter_5x5_Global.jpg',th1)\n",
        "  cv2.imwrite('drive/My Drive/Edge_Detection_End/Image'+i+'/Image'+i+'_Sobel_Manual_GaussianFilter_5x5_AdaptiveMeanThresholding.jpg',th2)\n",
        "  cv2.imwrite('drive/My Drive/Edge_Detection_End/Image'+i+'/Image'+i+'_Sobel_Manual_GaussianFilter_5x5_GaussianMeanThresholding.jpg',th3)\n",
        "\n",
        "  imageRead = 'drive/My Drive/Edge_Detection_End/Image'+i+'/Image'+i+'_Sobel.jpg'\n",
        "  image=cv2.imread(imageRead)\n",
        "  Gaussian = cv2.GaussianBlur(image,(5,5),0)\n",
        "  Gaussian = cv2.GaussianBlur(Gaussian,(3,3),0)\n",
        "  median=cv2.medianBlur(image,5)\n",
        "  median=cv2.medianBlur(median,3)\n",
        "  cv2.imwrite('drive/My Drive/Edge_Detection_End/Image'+i+'/Image'+i+'_Sobel_MedianFilter_5x5.jpg',median)\n",
        "  cv2.imwrite('drive/My Drive/Edge_Detection_End/Image'+i+'/Image'+i+'_Sobel_GaussianFilter_5x5.jpg',Gaussian)\n",
        "  img= cv2.cvtColor(median, cv2.COLOR_BGR2GRAY)\n",
        "  mean_value=np.mean(img)\n",
        "  mean_value=mean_value*3.1\n",
        "  ret,th1 = cv2.threshold(img,mean_value,255,cv2.THRESH_BINARY)\n",
        "  th2 = cv2.adaptiveThreshold(img,255,cv2.ADAPTIVE_THRESH_MEAN_C,cv2.THRESH_BINARY,11,2)\n",
        "  th3 = cv2.adaptiveThreshold(img,255,cv2.ADAPTIVE_THRESH_GAUSSIAN_C,cv2.THRESH_BINARY,11,2)\n",
        "  \n",
        "  titles = ['Original Image', 'Global Thresholding (v = 127)',\n",
        "              'Adaptive Mean Thresholding', 'Adaptive Gaussian Thresholding']\n",
        "  images = [img, th1, th2, th3]\n",
        "\n",
        "  cv2.imwrite('drive/My Drive/Edge_Detection_End/Image'+i+'/Image'+i+'_Sobel_MedianFilter_5x5_Global.jpg',th1)\n",
        "  cv2.imwrite('drive/My Drive/Edge_Detection_End/Image'+i+'/Image'+i+'_Sobel_MedianFilter_5x5_AdaptiveMeanThresholding.jpg',th2)\n",
        "  cv2.imwrite('drive/My Drive/Edge_Detection_End/Image'+i+'/Image'+i+'_Sobel_MedianFilter_5x5_GaussianMeanThresholding.jpg',th3)\n",
        "  img= cv2.cvtColor(Gaussian, cv2.COLOR_BGR2GRAY)\n",
        "  mean_value=np.mean(img)\n",
        "  mean_value=mean_value*3.1\n",
        "  ret,th1 = cv2.threshold(img,mean_value,255,cv2.THRESH_BINARY)\n",
        "  th2 = cv2.adaptiveThreshold(img,255,cv2.ADAPTIVE_THRESH_MEAN_C,cv2.THRESH_BINARY,11,2)\n",
        "  th3 = cv2.adaptiveThreshold(img,255,cv2.ADAPTIVE_THRESH_GAUSSIAN_C,cv2.THRESH_BINARY,11,2)\n",
        "\n",
        "  titles = ['Original Image', 'Global Thresholding (v = 127)',\n",
        "              'Adaptive Mean Thresholding', 'Adaptive Gaussian Thresholding']\n",
        "  images = [img, th1, th2, th3]\n",
        "\n",
        "  cv2.imwrite('drive/My Drive/Edge_Detection_End/Image'+i+'/Image'+i+'_Sobel_GaussianFilter_5x5_Global.jpg',th1)\n",
        "  cv2.imwrite('drive/My Drive/Edge_Detection_End/Image'+i+'/Image'+i+'_Sobel_GaussianFilter_5x5_AdaptiveMeanThresholding.jpg',th2)\n",
        "  cv2.imwrite('drive/My Drive/Edge_Detection_End/Image'+i+'/Image'+i+'_Sobel_GaussianFilter_5x5_GaussianMeanThresholding.jpg',th3)"
      ],
      "execution_count": 0,
      "outputs": []
    },
    {
      "cell_type": "markdown",
      "metadata": {
        "id": "NOMnGRHxFsH7",
        "colab_type": "text"
      },
      "source": [
        "## **Ensemble the Results**\n",
        "\n",
        " - The ensemble method begins with taking the best output from the previous images processed from the three independent edge detection techniques.\n",
        " - For every pixel in the image, we deploy a count-check algorithm, to determine if the pixel is an edge according to the different edge detection techniques used earlier.\n",
        "  - If a pixel with coordinates (x,y) in the image is detected as an edge pixel in all the three methods, we can know with maximum confidence that this pixel is an edge pixel. Thus we mark this pixel to be an edge pixel in the ensembled output\n",
        "  - If a pixel with coordinates (x,y) in the image is detected as an edge pixel in two of the three methods, we check the neighbouring pixels to determine if the pixel under consideration should be marked as an edge pixel or not. The check, centered at (x,y), marks the pixel to be an edge if any of the following conditions, for the algorithm in which (x,y) was not an edge pixel, may be true :\n",
        "    - (x-1,y) and (x+1,y) are edge pixels\n",
        "    - (x,y-1) and (x,y+1) are edge pixels\n",
        "    - (x+1,y-1) and (x-1,y+1) are edge pixels\n",
        "    - (x-1,y-1) and (x+1,y+1) are edge pixels\n",
        "  <br> If any of the above condition holds true, the pixel is marked as a edge pixel in the ensembled output\n",
        "   - If the pixel is not marked as an edge pixel in atleast two of the three methods, we consider this to be a noise in terms of the edge detection and thus mark it as a non-edge pixel or leave the pixel values as the original, depending upon whether we need a binarized image or not.\n",
        " - Lastly, the ensembled output obtained is sharpened to produce crisp edges in the final image obtained."
      ]
    },
    {
      "cell_type": "code",
      "metadata": {
        "id": "-FiQ9twXmLgp",
        "colab_type": "code",
        "colab": {}
      },
      "source": [
        "for j in range (q,z):\n",
        "  i=str(j)\n",
        "  img_Canny = cv2.imread('drive/My Drive/Edge_Detection_End/Image'+i+'/Image'+i+'_Canny.jpg',cv2.IMREAD_GRAYSCALE)\n",
        "  img_Laplacian = cv2.imread('drive/My Drive/Edge_Detection_End/Image'+i+'/Image'+i+'_Laplacian_GaussianFilter_5x5_Global.jpg',cv2.IMREAD_GRAYSCALE)\n",
        "  img_Sobel = cv2.imread('drive/My Drive/Edge_Detection_End/Image'+i+'/Image'+i+'_Sobel_Manual_MedianFilter_5x5_GaussianMeanThresholding.jpg',cv2.IMREAD_GRAYSCALE)\n",
        "  if j!=2:\n",
        "    img_image = cv2.imread('drive/My Drive/Images/Final_Image_'+i+'.jpg')\n",
        "  else:\n",
        "    img_image = cv2.imread('drive/My Drive/Images/Final_Image_'+i+'.jpeg')\n",
        "  width=img_image.shape[1]\n",
        "  height=img_image.shape[0]\n",
        "  for y in range(1,width-1):\n",
        "    for x in range(1,height-1):\n",
        "      ## Checking if all three images have pixel values as edge\n",
        "      count=0\n",
        "      count_Canny=False\n",
        "      count_Laplacian=False\n",
        "      count_Sobel=False\n",
        "      if(img_Canny[x][y]>200):\n",
        "        count=count+1\n",
        "        count_Canny=True\n",
        "      if(img_Laplacian[x][y]>200):\n",
        "        count=count+1\n",
        "        count_Laplacian=True\n",
        "      if(img_Sobel[x][y]>200):\n",
        "        count=count+1\n",
        "        count_Sobel=True\n",
        "      if count==3 :\n",
        "        img_image[x][y][0]=255\n",
        "        img_image[x][y][1]=255\n",
        "        img_image[x][y][2]=255\n",
        "      #Checking if the neighbouring pixels are marked edge pixels\n",
        "      elif count==2:\n",
        "        if(img_Canny[x-1][y]==255 and img_Canny[x+1][y]==255) or (img_Canny[x][y+1]==255 and img_Canny[x][y-1]==255) or (img_Canny[x-1][y+1]==255 and img_Canny[x+1][y-1]==255) or (img_Canny[x+1][y+1]==255 and img_Canny[x-1][y-1]==255):\n",
        "            img_image[x][y][0]=255\n",
        "            img_image[x][y][1]=255\n",
        "            img_image[x][y][2]=255\n",
        "        elif(count_Laplacian==False):\n",
        "          if(img_Laplacian[x-1][y]==255 and img_Laplacian[x+1][y]==255) or (img_Laplacian[x][y+1]==255 and img_Laplacian[x][y-1]==255) or (img_Laplacian[x-1][y+1]==255 and img_Laplacian[x+1][y-1]==255) or (img_Laplacian[x+1][y+1]==255 and img_Laplacian[x-1][y-1]==255):\n",
        "            img_image[x][y][0]=255\n",
        "            img_image[x][y][1]=255\n",
        "            img_image[x][y][2]=255\n",
        "        elif(count_Sobel==False):\n",
        "          if(img_Sobel[x-1][y]==255 and img_Sobel[x+1][y]==255) or (img_Sobel[x][y+1]==255 and img_Sobel[x][y-1]==255) or (img_Sobel[x-1][y+1]==255 and img_Sobel[x+1][y-1]==255) or (img_Sobel[x+1][y+1]==255 and img_Sobel[x-1][y-1]==255):\n",
        "            img_image[x][y][0]=255\n",
        "            img_image[x][y][1]=255\n",
        "            img_image[x][y][2]=255\n",
        "        else:\n",
        "          img_image[x][y][0]=0\n",
        "          img_image[x][y][1]=0\n",
        "          img_image[x][y][2]=0\n",
        "      else:\n",
        "        img_image[x][y][0]=0\n",
        "        img_image[x][y][1]=0\n",
        "        img_image[x][y][2]=0\n",
        "        \n",
        "  writePath = 'drive/My Drive/Edge_Detection_End/Image'+i+'/Image'+i+'_EnsembledImage.jpg'\n",
        "  cv2.imwrite(writePath,img_image)\n",
        "  \n"
      ],
      "execution_count": 0,
      "outputs": []
    },
    {
      "cell_type": "code",
      "metadata": {
        "id": "zIba_Yz0Sn3R",
        "colab_type": "code",
        "colab": {}
      },
      "source": [
        "for j in range(q,z):\n",
        "  i=str(j)\n",
        "  image = cv2.imread('drive/My Drive/Edge_Detection_End/Image'+i+'/Image'+i+'_EnsembledImage.jpg', 0)\n",
        "  kernel_sharpening = np.array([[-1,-1,-1], \n",
        "                                  [-1, 9,-1],\n",
        "                                  [-1,-1,-1]])\n",
        "  sharpened = cv2.filter2D(image, -1, kernel_sharpening)\n",
        "  ima=cv2.GaussianBlur(sharpened,(3,3),0)\n",
        "  cv2.imwrite('drive/My Drive/Edge_Detection_End/Image'+i+'/Image'+i+'_EnsembledImage_Sharpened.jpg',ima)"
      ],
      "execution_count": 0,
      "outputs": []
    },
    {
      "cell_type": "code",
      "metadata": {
        "id": "o1nxpEel7uqv",
        "colab_type": "code",
        "colab": {}
      },
      "source": [
        ""
      ],
      "execution_count": 0,
      "outputs": []
    }
  ]
}